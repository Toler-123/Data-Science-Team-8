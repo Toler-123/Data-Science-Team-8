{
  "cells": [
    {
      "cell_type": "code",
      "execution_count": null,
      "metadata": {
        "id": "WgWta8ab7p-W"
      },
      "outputs": [],
      "source": [
        "import pandas as pd\n",
        "import numpy as np\n",
        "from sklearn.linear_model import LinearRegression\n",
        "from sklearn.impute import SimpleImputer\n"
      ]
    },
    {
      "cell_type": "code",
      "execution_count": null,
      "metadata": {
        "id": "KVyigdXpAo53"
      },
      "outputs": [],
      "source": [
        "df = pd.read_csv('tot.csv', encoding='cp949')\n",
        "df.to_csv('tot.csv', encoding='cp949', index=False)"
      ]
    },
    {
      "cell_type": "code",
      "execution_count": null,
      "metadata": {
        "id": "uezRhwoa96oX"
      },
      "outputs": [],
      "source": [
        "# 자치구역 리스트 (총 17개)\n",
        "regions = [\n",
        "    '서울특별시', '부산광역시', '대구광역시', '인천광역시', '광주광역시',\n",
        "    '대전광역시', '울산광역시', '세종특별자치시', '경기도', '강원특별자치도',\n",
        "    '충청북도', '충청남도', '전북특별자치도', '전라남도', '경상북도', '경상남도', '제주특별자치도'\n",
        "]\n",
        "\n",
        "# 자치구역과 번호를 매핑\n",
        "region_to_number = {region: idx + 1 for idx, region in enumerate(regions)}\n",
        "\n",
        "# 데이터프레임에 새로운 열로 추가\n",
        "df['자치구역번호'] = df['행정구역'].map(region_to_number)\n",
        "df.drop(['행정구역'], axis=1, inplace=True)\n",
        "df.to_csv('TOTAL.csv', encoding='cp949', index=False)\n"
      ]
    },
    {
      "cell_type": "code",
      "execution_count": null,
      "metadata": {
        "id": "OQyv8Yj297fT"
      },
      "outputs": [],
      "source": [
        "df1 = pd.read_csv('earlybirth.csv', encoding='cp949')\n",
        "df1_1 = df1.loc[(df1['행정구역별']!='전국') & (df1['종류별']=='조출생률(천명당)')]\n",
        "df1_1.drop(['행정구역별','종류별', '항목', '단위'], axis=1, inplace=True)\n",
        "\n",
        "df1_2 = df1_1.stack()\n",
        "df1_2 = df1_2.reset_index(drop=True)\n",
        "\n",
        "df['조출생률'] = df1_2\n"
      ]
    },
    {
      "cell_type": "code",
      "execution_count": null,
      "metadata": {
        "id": "Gmt_SaZd_gkr"
      },
      "outputs": [],
      "source": [
        "df2 = pd.read_csv('highAge.csv', encoding='cp949')\n",
        "df2_1 = df2.loc[(df2['행정구역별(1)']!='전국')]\n",
        "df2_2 = df2_1.loc[((df2_1['시점']!=2008.01)& (df2_1['시점']!=2024.03)& (df2_1['시점']!=2024.04))]\n",
        "\n",
        "df2_4 = df2_2['고령인구비율<br>(A÷B×100) (%)']\n",
        "df2_5 = df2_4.reset_index(drop=True)\n",
        "\n",
        "df['고령인구비율'] = df2_5\n"
      ]
    },
    {
      "cell_type": "code",
      "execution_count": null,
      "metadata": {
        "id": "VUo0DrMfQTTX"
      },
      "outputs": [],
      "source": [
        "df3 = pd.read_csv('2034move.csv', encoding='cp949')\n",
        "df3.drop(0, axis=0, inplace=True)\n",
        "df3_1 = df3.loc[(df3['행정구역(시군구)별']!='전국') & (df3['연령별']=='계')]\n",
        "df3_2 = df3_1.iloc[:, 3:-17]\n",
        "\n",
        "df3_5 = df3_2.stack()\n",
        "df3_6 = df3_5.reset_index(drop=True)\n",
        "df['청년 순이동수'] = df3_6"
      ]
    },
    {
      "cell_type": "code",
      "execution_count": null,
      "metadata": {
        "id": "uGpzwl6xbxYV"
      },
      "outputs": [],
      "source": [
        "df4 = pd.read_csv('company.csv', encoding='cp949')\n",
        "df4_1 = df4['사업체수']\n",
        "df4_2  = df4_1.replace('null', '-')\n",
        "df['사업체수'] = df4_2\n",
        "\n",
        "df.drop(df.index[1352:1406], inplace=True)\n",
        "len(df)"
      ]
    },
    {
      "cell_type": "code",
      "execution_count": 1,
      "metadata": {
        "id": "wlp5aOKNwhQ_"
      },
      "outputs": [
        {
          "ename": "NameError",
          "evalue": "name 'df' is not defined",
          "output_type": "error",
          "traceback": [
            "\u001b[1;31m---------------------------------------------------------------------------\u001b[0m",
            "\u001b[1;31mNameError\u001b[0m                                 Traceback (most recent call last)",
            "Cell \u001b[1;32mIn[1], line 1\u001b[0m\n\u001b[1;32m----> 1\u001b[0m \u001b[43mdf\u001b[49m\u001b[38;5;241m.\u001b[39mreplace(\u001b[38;5;124m'\u001b[39m\u001b[38;5;124m-\u001b[39m\u001b[38;5;124m'\u001b[39m, np\u001b[38;5;241m.\u001b[39mnan, inplace\u001b[38;5;241m=\u001b[39m\u001b[38;5;28;01mTrue\u001b[39;00m)\n\u001b[0;32m      2\u001b[0m df\u001b[38;5;241m.\u001b[39mreplace(\u001b[38;5;124m'\u001b[39m\u001b[38;5;124m'\u001b[39m, np\u001b[38;5;241m.\u001b[39mnan, inplace\u001b[38;5;241m=\u001b[39m\u001b[38;5;28;01mTrue\u001b[39;00m)\n\u001b[0;32m      5\u001b[0m  \u001b[38;5;66;03m# 결측값을 선형 회귀로 채우는 함수\u001b[39;00m\n",
            "\u001b[1;31mNameError\u001b[0m: name 'df' is not defined"
          ]
        }
      ],
      "source": [
        "df.replace('-', np.nan, inplace=True)\n",
        "df.replace('', np.nan, inplace=True)\n",
        "\n",
        "\n",
        " # 결측값을 선형 회귀로 채우는 함수\n",
        "def fill_missing_with_regression(df, column):\n",
        "    not_null = df[df[column].notnull()]\n",
        "    is_null = df[df[column].isnull()]\n",
        "    if not_null.empty or is_null.empty:\n",
        "        return df\n",
        "    # X_train은 'Time'과 나머지 속성\n",
        "    X_train = not_null[['시점', '조출생률', '고령인구비율', '청년 순이동수', '사업체수']].drop(columns=[column])\n",
        "    y_train = not_null[column].values\n",
        "    # X_test는 'Time'과 나머지 속성\n",
        "    X_test = is_null[['시점', '조출생률', '고령인구비율', '청년 순이동수', '사업체수']].drop(columns=[column])\n",
        "    # 결측값을 평균값으로 대체 (임시로)\n",
        "    imputer = SimpleImputer(strategy='mean')\n",
        "    X_train = imputer.fit_transform(X_train)\n",
        "    X_test = imputer.transform(X_test)\n",
        "    # 선형 회귀 모델 훈련\n",
        "    model = LinearRegression()\n",
        "    model.fit(X_train, y_train)\n",
        "\n",
        "    # 예측값으로 결측값 채우기\n",
        "    predicted = model.predict(X_test)\n",
        "    df.loc[df[column].isnull(), column] = predicted\n",
        "    return df\n",
        "\n",
        "\n",
        "# 데이터 정렬\n",
        "df = df.sort_values(by=['자치구역번호', '시점'])\n",
        "\n",
        "for column in ['조출생률', '고령인구비율', '청년 순이동수', '사업체수']:\n",
        "    # 'DistrictNumber'로 그룹화하고 보간\n",
        "    data_interpolated = df.groupby('자치구역번호').apply(lambda group: fill_missing_with_regression(group, column)).reset_index(drop=True)\n",
        "\n",
        "# 보간된 데이터프레임을 CSV 파일로 저장\n",
        "len(data_interpolated)"
      ]
    },
    {
      "cell_type": "markdown",
      "metadata": {
        "id": "V6_v8c8mMWKU"
      },
      "source": []
    },
    {
      "cell_type": "code",
      "execution_count": 2,
      "metadata": {},
      "outputs": [
        {
          "ename": "NameError",
          "evalue": "name 'pd' is not defined",
          "output_type": "error",
          "traceback": [
            "\u001b[1;31m---------------------------------------------------------------------------\u001b[0m",
            "\u001b[1;31mNameError\u001b[0m                                 Traceback (most recent call last)",
            "Cell \u001b[1;32mIn[2], line 1\u001b[0m\n\u001b[1;32m----> 1\u001b[0m data \u001b[38;5;241m=\u001b[39m \u001b[43mpd\u001b[49m\u001b[38;5;241m.\u001b[39mread_csv(\u001b[38;5;124m'\u001b[39m\u001b[38;5;124myear_culturalFacilities_Academy_Indicator.csv\u001b[39m\u001b[38;5;124m'\u001b[39m, encoding\u001b[38;5;241m=\u001b[39m\u001b[38;5;124m'\u001b[39m\u001b[38;5;124mcp949\u001b[39m\u001b[38;5;124m'\u001b[39m)\n\u001b[0;32m      2\u001b[0m data_interpolated[\u001b[38;5;124m'\u001b[39m\u001b[38;5;124m문화시설 개수\u001b[39m\u001b[38;5;124m'\u001b[39m] \u001b[38;5;241m=\u001b[39m data[\u001b[38;5;124m'\u001b[39m\u001b[38;5;124m문화시설 개수\u001b[39m\u001b[38;5;124m'\u001b[39m]\n\u001b[0;32m      3\u001b[0m data_interpolated[\u001b[38;5;124m'\u001b[39m\u001b[38;5;124m학원수 (개)\u001b[39m\u001b[38;5;124m'\u001b[39m] \u001b[38;5;241m=\u001b[39m data[\u001b[38;5;124m'\u001b[39m\u001b[38;5;124m학원수 (개)\u001b[39m\u001b[38;5;124m'\u001b[39m]\n",
            "\u001b[1;31mNameError\u001b[0m: name 'pd' is not defined"
          ]
        }
      ],
      "source": [
        "data = pd.read_csv('year_culturalFacilities_Academy_Indicator.csv', encoding='cp949')\n",
        "data_interpolated['문화시설 개수'] = data['문화시설 개수']\n",
        "data_interpolated['학원수 (개)'] = data['학원수 (개)']\n",
        "data_interpolated['수강인원 (명)'] = data['수강인원 (명)']\n",
        "data_interpolated['소멸위험지수'] = data['소멸위험지수']\n",
        "data_interpolated['단계'] = data['단계']\n",
        "\n",
        "data_interpolated.to_csv('final.csv', index=False)\n"
      ]
    },
    {
      "cell_type": "code",
      "execution_count": null,
      "metadata": {},
      "outputs": [],
      "source": [
        "data_interpolated.isna().sum()"
      ]
    },
    {
      "cell_type": "code",
      "execution_count": null,
      "metadata": {},
      "outputs": [],
      "source": [
        "data_interpolated.fillna(method='ffill', inplace=True)\n",
        "data_interpolated.isna().sum()\n",
        "\n",
        "data_interpolated.head()"
      ]
    }
  ],
  "metadata": {
    "colab": {
      "private_outputs": true,
      "provenance": []
    },
    "kernelspec": {
      "display_name": "Python 3",
      "name": "python3"
    },
    "language_info": {
      "codemirror_mode": {
        "name": "ipython",
        "version": 3
      },
      "file_extension": ".py",
      "mimetype": "text/x-python",
      "name": "python",
      "nbconvert_exporter": "python",
      "pygments_lexer": "ipython3",
      "version": "3.11.7"
    }
  },
  "nbformat": 4,
  "nbformat_minor": 0
}
