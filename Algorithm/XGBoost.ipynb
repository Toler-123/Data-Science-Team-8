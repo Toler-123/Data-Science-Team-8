{
 "cells": [
  {
   "cell_type": "code",
   "execution_count": 33,
   "id": "d8881925-20f8-44cc-be1f-5ba241562b82",
   "metadata": {},
   "outputs": [],
   "source": [
    "import numpy as np\n",
    "import pandas as pd"
   ]
  },
  {
   "cell_type": "code",
   "execution_count": 34,
   "id": "831f5329-9da9-4940-baaa-b87906adc13a",
   "metadata": {},
   "outputs": [
    {
     "name": "stdout",
     "output_type": "stream",
     "text": [
      "          시점  자치구역번호   조출생률  고령인구비율  청년 순이동수           사업체수  문화시설 개수  학원수 (개)  \\\n",
      "0     200802       1  10.01     8.4   2244.0  358446.000000     22.0  11261.0   \n",
      "1     200803       1   9.73     8.4  -5057.0  358339.000000     22.0  11261.0   \n",
      "2     200804       1   9.40     8.5  -6978.0  358233.000000     22.0  11261.0   \n",
      "3     200805       1   8.82     8.5  -8537.0  358126.000000     22.0  11261.0   \n",
      "4     200806       1   8.60     8.5  -9643.0  358020.000000     22.0  11261.0   \n",
      "...      ...     ...    ...     ...      ...            ...      ...      ...   \n",
      "3222  202310      17   4.90    17.8    -26.0   46261.503034      NaN   1212.0   \n",
      "3223  202311      17   4.30    17.9   -135.0   46921.650802      NaN   1212.0   \n",
      "3224  202312      17   3.90    17.9   -438.0   47464.123543      NaN   1212.0   \n",
      "3225  202401      17   5.20    18.0   -761.0   47992.410855      NaN      NaN   \n",
      "3226  202402      17   5.20    18.1   -546.0   48055.994207      NaN      NaN   \n",
      "\n",
      "      수강인원 (명)  소멸위험지수   단계  \n",
      "0     986758.0  2.0452   안정  \n",
      "1     986758.0  2.0452   안정  \n",
      "2     986758.0  2.0452   안정  \n",
      "3     986758.0  2.0452   안정  \n",
      "4     986758.0  2.0452   안정  \n",
      "...        ...     ...  ...  \n",
      "3222   50588.0     NaN  NaN  \n",
      "3223   50588.0     NaN  NaN  \n",
      "3224   50588.0     NaN  NaN  \n",
      "3225       NaN     NaN  NaN  \n",
      "3226       NaN     NaN  NaN  \n",
      "\n",
      "[3227 rows x 11 columns]\n"
     ]
    }
   ],
   "source": [
    "#데이터 불러오기\n",
    "data = pd.read_csv('final.csv', encoding='UTF-8')\n",
    "df = pd.DataFrame(data)\n",
    "print(df)"
   ]
  },
  {
   "cell_type": "code",
   "execution_count": 35,
   "id": "edd64146-17e4-43d6-8a17-dcf113466e85",
   "metadata": {},
   "outputs": [
    {
     "data": {
      "text/plain": [
       "시점            0\n",
       "자치구역번호        0\n",
       "조출생률          1\n",
       "고령인구비율        1\n",
       "청년 순이동수       1\n",
       "사업체수          0\n",
       "문화시설 개수     231\n",
       "학원수 (개)      16\n",
       "수강인원 (명)     16\n",
       "소멸위험지수      442\n",
       "단계          442\n",
       "dtype: int64"
      ]
     },
     "execution_count": 35,
     "metadata": {},
     "output_type": "execute_result"
    }
   ],
   "source": [
    "df.isna().sum()"
   ]
  },
  {
   "cell_type": "code",
   "execution_count": 36,
   "id": "73a48415-d28b-4e0e-84fe-a107ddabdf4a",
   "metadata": {},
   "outputs": [
    {
     "name": "stderr",
     "output_type": "stream",
     "text": [
      "C:\\Users\\toler\\AppData\\Local\\Temp\\ipykernel_18048\\8256680.py:1: FutureWarning: DataFrame.fillna with 'method' is deprecated and will raise in a future version. Use obj.ffill() or obj.bfill() instead.\n",
      "  df.fillna(method='ffill', inplace=True)\n"
     ]
    },
    {
     "data": {
      "text/html": [
       "<div>\n",
       "<style scoped>\n",
       "    .dataframe tbody tr th:only-of-type {\n",
       "        vertical-align: middle;\n",
       "    }\n",
       "\n",
       "    .dataframe tbody tr th {\n",
       "        vertical-align: top;\n",
       "    }\n",
       "\n",
       "    .dataframe thead th {\n",
       "        text-align: right;\n",
       "    }\n",
       "</style>\n",
       "<table border=\"1\" class=\"dataframe\">\n",
       "  <thead>\n",
       "    <tr style=\"text-align: right;\">\n",
       "      <th></th>\n",
       "      <th>시점</th>\n",
       "      <th>자치구역번호</th>\n",
       "      <th>조출생률</th>\n",
       "      <th>고령인구비율</th>\n",
       "      <th>청년 순이동수</th>\n",
       "      <th>사업체수</th>\n",
       "      <th>문화시설 개수</th>\n",
       "      <th>학원수 (개)</th>\n",
       "      <th>수강인원 (명)</th>\n",
       "      <th>소멸위험지수</th>\n",
       "      <th>단계</th>\n",
       "    </tr>\n",
       "  </thead>\n",
       "  <tbody>\n",
       "    <tr>\n",
       "      <th>0</th>\n",
       "      <td>200802</td>\n",
       "      <td>1</td>\n",
       "      <td>10.01</td>\n",
       "      <td>8.4</td>\n",
       "      <td>2244.0</td>\n",
       "      <td>358446.0</td>\n",
       "      <td>22.0</td>\n",
       "      <td>11261.0</td>\n",
       "      <td>986758.0</td>\n",
       "      <td>2.0452</td>\n",
       "      <td>안정</td>\n",
       "    </tr>\n",
       "    <tr>\n",
       "      <th>1</th>\n",
       "      <td>200803</td>\n",
       "      <td>1</td>\n",
       "      <td>9.73</td>\n",
       "      <td>8.4</td>\n",
       "      <td>-5057.0</td>\n",
       "      <td>358339.0</td>\n",
       "      <td>22.0</td>\n",
       "      <td>11261.0</td>\n",
       "      <td>986758.0</td>\n",
       "      <td>2.0452</td>\n",
       "      <td>안정</td>\n",
       "    </tr>\n",
       "    <tr>\n",
       "      <th>2</th>\n",
       "      <td>200804</td>\n",
       "      <td>1</td>\n",
       "      <td>9.40</td>\n",
       "      <td>8.5</td>\n",
       "      <td>-6978.0</td>\n",
       "      <td>358233.0</td>\n",
       "      <td>22.0</td>\n",
       "      <td>11261.0</td>\n",
       "      <td>986758.0</td>\n",
       "      <td>2.0452</td>\n",
       "      <td>안정</td>\n",
       "    </tr>\n",
       "    <tr>\n",
       "      <th>3</th>\n",
       "      <td>200805</td>\n",
       "      <td>1</td>\n",
       "      <td>8.82</td>\n",
       "      <td>8.5</td>\n",
       "      <td>-8537.0</td>\n",
       "      <td>358126.0</td>\n",
       "      <td>22.0</td>\n",
       "      <td>11261.0</td>\n",
       "      <td>986758.0</td>\n",
       "      <td>2.0452</td>\n",
       "      <td>안정</td>\n",
       "    </tr>\n",
       "    <tr>\n",
       "      <th>4</th>\n",
       "      <td>200806</td>\n",
       "      <td>1</td>\n",
       "      <td>8.60</td>\n",
       "      <td>8.5</td>\n",
       "      <td>-9643.0</td>\n",
       "      <td>358020.0</td>\n",
       "      <td>22.0</td>\n",
       "      <td>11261.0</td>\n",
       "      <td>986758.0</td>\n",
       "      <td>2.0452</td>\n",
       "      <td>안정</td>\n",
       "    </tr>\n",
       "  </tbody>\n",
       "</table>\n",
       "</div>"
      ],
      "text/plain": [
       "       시점  자치구역번호   조출생률  고령인구비율  청년 순이동수      사업체수  문화시설 개수  학원수 (개)  \\\n",
       "0  200802       1  10.01     8.4   2244.0  358446.0     22.0  11261.0   \n",
       "1  200803       1   9.73     8.4  -5057.0  358339.0     22.0  11261.0   \n",
       "2  200804       1   9.40     8.5  -6978.0  358233.0     22.0  11261.0   \n",
       "3  200805       1   8.82     8.5  -8537.0  358126.0     22.0  11261.0   \n",
       "4  200806       1   8.60     8.5  -9643.0  358020.0     22.0  11261.0   \n",
       "\n",
       "   수강인원 (명)  소멸위험지수  단계  \n",
       "0  986758.0  2.0452  안정  \n",
       "1  986758.0  2.0452  안정  \n",
       "2  986758.0  2.0452  안정  \n",
       "3  986758.0  2.0452  안정  \n",
       "4  986758.0  2.0452  안정  "
      ]
     },
     "execution_count": 36,
     "metadata": {},
     "output_type": "execute_result"
    }
   ],
   "source": [
    "df.fillna(method='ffill', inplace=True)\n",
    "df.isna().sum()\n",
    "\n",
    "df.head()"
   ]
  },
  {
   "cell_type": "code",
   "execution_count": 37,
   "id": "0d5fd6c3-5a34-43c8-98f1-9ab0a55dc64b",
   "metadata": {},
   "outputs": [
    {
     "ename": "ModuleNotFoundError",
     "evalue": "No module named 'xgboost'",
     "output_type": "error",
     "traceback": [
      "\u001b[1;31m---------------------------------------------------------------------------\u001b[0m",
      "\u001b[1;31mModuleNotFoundError\u001b[0m                       Traceback (most recent call last)",
      "Cell \u001b[1;32mIn[37], line 1\u001b[0m\n\u001b[1;32m----> 1\u001b[0m \u001b[38;5;28;01mimport\u001b[39;00m \u001b[38;5;21;01mxgboost\u001b[39;00m \u001b[38;5;28;01mas\u001b[39;00m \u001b[38;5;21;01mxgb\u001b[39;00m\n\u001b[0;32m      2\u001b[0m \u001b[38;5;28;01mfrom\u001b[39;00m \u001b[38;5;21;01msklearn\u001b[39;00m\u001b[38;5;21;01m.\u001b[39;00m\u001b[38;5;21;01mmodel_selection\u001b[39;00m \u001b[38;5;28;01mimport\u001b[39;00m train_test_split\n\u001b[0;32m      3\u001b[0m \u001b[38;5;28;01mfrom\u001b[39;00m \u001b[38;5;21;01msklearn\u001b[39;00m\u001b[38;5;21;01m.\u001b[39;00m\u001b[38;5;21;01mmetrics\u001b[39;00m \u001b[38;5;28;01mimport\u001b[39;00m accuracy_score\n",
      "\u001b[1;31mModuleNotFoundError\u001b[0m: No module named 'xgboost'"
     ]
    }
   ],
   "source": [
    "import xgboost as xgb\n",
    "from sklearn.model_selection import train_test_split\n",
    "from sklearn.metrics import accuracy_score\n",
    "\n",
    "# 소멸위험지수를 범주형 변수로 변환 (예시로 3개의 구간으로 나눔)\n",
    "df['소멸위험지수_범주'] = pd.cut(df['소멸위험지수'], bins=3, labels=[0, 1, 2])\n",
    "\n",
    "# XGBoost를 이용한 소멸위험지수 예측을 위해 필요한 전처리\n",
    "X = df.drop(columns=['시점', '자치구역번호', '단계', '소멸위험지수', 'Cluster', '소멸위험지수_범주'])\n",
    "y = df['소멸위험지수_범주']\n",
    "\n",
    "# Train/Test Split\n",
    "X_train, X_test, y_train, y_test = train_test_split(X, y, test_size=0.2, random_state=42)\n",
    "\n",
    "# XGBoost 모델 학습\n",
    "xgb_model = xgb.XGBClassifier(random_state=42)\n",
    "xgb_model.fit(X_train, y_train)\n",
    "\n",
    "# 예측\n",
    "y_pred_train = xgb_model.predict(X_train)\n",
    "y_pred_test = xgb_model.predict(X_test)\n",
    "\n",
    "# 평가 (정확도)\n",
    "accuracy_train = accuracy_score(y_train, y_pred_train)\n",
    "accuracy_test = accuracy_score(y_test, y_pred_test)\n",
    "\n",
    "print(f'Training Accuracy: {accuracy_train}')\n",
    "print(f'Test Accuracy: {accuracy_test}')\n",
    "\n",
    "# Feature Importance 확인\n",
    "feature_importance = xgb_model.feature_importances_\n",
    "features = X.columns\n",
    "\n",
    "for i, (feature, importance) in enumerate(zip(features, feature_importance), 1):\n",
    "    print(f\"Feature {i}: {feature}, Importance: {importance}\")"
   ]
  },
  {
   "cell_type": "code",
   "execution_count": null,
   "id": "1544c290-db26-44b4-8b64-fc290d433076",
   "metadata": {},
   "outputs": [],
   "source": []
  }
 ],
 "metadata": {
  "kernelspec": {
   "display_name": "Python 3 (ipykernel)",
   "language": "python",
   "name": "python3"
  },
  "language_info": {
   "codemirror_mode": {
    "name": "ipython",
    "version": 3
   },
   "file_extension": ".py",
   "mimetype": "text/x-python",
   "name": "python",
   "nbconvert_exporter": "python",
   "pygments_lexer": "ipython3",
   "version": "3.12.2"
  }
 },
 "nbformat": 4,
 "nbformat_minor": 5
}
